{
 "cells": [
  {
   "cell_type": "code",
   "execution_count": 2,
   "metadata": {},
   "outputs": [
    {
     "data": {
      "text/html": [
       "<h1>MySQL SERVER</h1>"
      ]
     },
     "metadata": {},
     "output_type": "display_data"
    },
    {
     "data": {
      "text/html": [
       "<form action=\"javascript:IPython.notebook.execute_cells([1,2,3,6,7]);\">\n",
       "<input type=\"submit\" id=\"toggleButton\" value=\"Start Processing\"></form>"
      ]
     },
     "metadata": {},
     "output_type": "display_data"
    },
    {
     "data": {
      "text/html": [
       "<script>\n",
       "code_show=true; \n",
       "function code_toggle() {\n",
       " if (code_show){\n",
       " $('div.input').hide();\n",
       " } else {\n",
       " $('div.input').show();\n",
       " }\n",
       " code_show = !code_show\n",
       "} \n",
       "$( document ).ready(code_toggle);\n",
       "</script>\n",
       "<form action=\"javascript:code_toggle()\"><input type=\"submit\" value=\"Click here to toggle on/off \n",
       "the raw code.\"></form>"
      ],
      "text/plain": [
       "<IPython.core.display.HTML object>"
      ]
     },
     "execution_count": 2,
     "metadata": {},
     "output_type": "execute_result"
    }
   ],
   "source": [
    "import warnings\n",
    "warnings.filterwarnings(\"ignore\", message=\"numpy.dtype size changed\")\n",
    "import mysql.connector as mysql\n",
    "import bcrypt\n",
    "from IPython.core.display import display, HTML\n",
    "from IPython.display import Javascript, display\n",
    "from ipywidgets import widgets\n",
    "\n",
    "#Widen cells\n",
    "#display(HTML(\"<style>.container { width:55% !important; }</style>\"))\n",
    "\n",
    "#Adding Buttons\n",
    "import IPython.core.display as di # Example: di.display_html('<h3>%s:</h3>' % str, raw=True)\n",
    "\n",
    "#Execute all bellow button\n",
    "di.display_html('<h1>MySQL SERVER</h1>', raw=True)\n",
    "                                                                            #Function/Input/Output\n",
    "di.display_html('''<form action=\"javascript:IPython.notebook.execute_cells([1,2,3,6,7]);\">\n",
    "<input type=\"submit\" id=\"toggleButton\" value=\"Start Processing\"></form>''', raw=True)\n",
    "\n",
    "HTML('''<script>\n",
    "code_show=true; \n",
    "function code_toggle() {\n",
    " if (code_show){\n",
    " $('div.input').hide();\n",
    " } else {\n",
    " $('div.input').show();\n",
    " }\n",
    " code_show = !code_show\n",
    "} \n",
    "$( document ).ready(code_toggle);\n",
    "</script>\n",
    "<form action=\"javascript:code_toggle()\"><input type=\"submit\" value=\"Click here to toggle on/off \n",
    "the raw code.\"></form>''')\n",
    "\n"
   ]
  },
  {
   "cell_type": "code",
   "execution_count": 27,
   "metadata": {},
   "outputs": [],
   "source": [
    "server = 'staysafe-23.mysql.database.azure.com'\n",
    "prt = '3306'\n",
    "db = 'staysafe'\n",
    "username = 'owner@staysafe-23'\n",
    "pwd = 's5hhYSr@LRyD'\n",
    "\n",
    "conn = mysql.connect(host=server,\n",
    "                     user=username, \n",
    "                     password=pwd, \n",
    "                     port=prt, \n",
    "                     database=db)\n",
    "\n",
    "cursor = conn.cursor()"
   ]
  },
  {
   "cell_type": "code",
   "execution_count": 28,
   "metadata": {
    "scrolled": true
   },
   "outputs": [
    {
     "data": {
      "text/html": [
       "Created Tables: <ul></ul>"
      ],
      "text/plain": [
       "<IPython.core.display.HTML object>"
      ]
     },
     "execution_count": 28,
     "metadata": {},
     "output_type": "execute_result"
    }
   ],
   "source": [
    "cursor.execute(\"SHOW TABLES LIKE 'accounts'\") # Select Tables like accounts\n",
    "result = cursor.fetchone() # Fetch the first result\n",
    "\n",
    "htmlList = \"Created Tables: <ul>\" # HTMLList will be used to show created tables.\n",
    "\n",
    "# If result is false then create the following table.\n",
    "if not result :\n",
    "    cursor.execute('''CREATE TABLE accounts(\n",
    "                    id int NOT NULL,\n",
    "                    username varChar(15) NOT NULL,\n",
    "                    password Char(60) Binary NOT NULL,\n",
    "                    firstName varChar(35) NOT NULL,\n",
    "                    lastName varChar(35) NOT NULL,\n",
    "                    age int NOT NULL,\n",
    "                    email varChar(60) NOT NULL,\n",
    "                    telephoneNumber varChar(12) NOT NULL,\n",
    "                    role varChar(15) NOT NULL,\n",
    "                    CONSTRAINT PK_accountID PRIMARY KEY(id))''')\n",
    "    \n",
    "    htmlList += \"<li>Accounts Table</li>\" # List the table after creation.    \n",
    "    \n",
    "#### ----------------------------------------------------------------------\n",
    "\n",
    "cursor.execute(\"SHOW TABLES LIKE 'products'\") # Select Tables like Products    \n",
    "result = cursor.fetchone() # Fetch the first result.\n",
    "\n",
    "#If result is false then create the following table.\n",
    "if not result :\n",
    "    cursor.execute('''CREATE TABLE products(\n",
    "                id int NOT NULL,\n",
    "                name varChar(25) NOT NULL,\n",
    "                category varChar(20) NOT NULL,\n",
    "                price decimal(13,2) NOT NULL,\n",
    "                calories int,\n",
    "                allergies TEXT,\n",
    "                availability int NOT NULL,\n",
    "                img varChar(125),\n",
    "                CONSTRAINT PK_productID PRIMARY KEY(id))''')\n",
    "    \n",
    "    htmlList += \"<li>Products Table</li>\" # List the table after creation. \n",
    "\n",
    "#### ----------------------------------------------------------------------\n",
    "\n",
    "cursor.execute(\"SHOW TABLES LIKE 'orders'\") # Select Tables like orders\n",
    "result = cursor.fetchone() # Fetch the first result\n",
    "    \n",
    "#If result is false then create the following table.\n",
    "if not result :\n",
    "    cursor.execute('''CREATE TABLE orders(\n",
    "                    id varChar(15) NOT NULL,\n",
    "                    productID int,\n",
    "                    customerID int ,\n",
    "                    staffID int,\n",
    "                    CONSTRAINT PK_orderID PRIMARY KEY(id),\n",
    "                    CONSTRAINT FK_productID FOREIGN KEY(productID) REFERENCES products(id),\n",
    "                    CONSTRAINT FK_customerID FOREIGN KEY(customerID) REFERENCES accounts(id),\n",
    "                    CONSTRAINT FK_staffID FOREIGN KEY(staffID) REFERENCES accounts(id))''')\n",
    "    \n",
    "    htmlList += \"\"\"<li>Orders Table</li>\n",
    "                <li>Added Relationship to Products Table</li>\"\"\" # List the table after creation. \n",
    "    \n",
    "#### ----------------------------------------------------------------------\n",
    "\n",
    "htmlList += \"</ul>\"\n",
    "\n",
    "HTML(htmlList)\n"
   ]
  },
  {
   "cell_type": "code",
   "execution_count": 29,
   "metadata": {
    "scrolled": true
   },
   "outputs": [
    {
     "name": "stdout",
     "output_type": "stream",
     "text": [
      "(0, '1801492', '$2a$11$1P7jTHANKGwerhoA6rzQMOiGHbOf0AbvnBAxEUbVNUqAhgGpRf6Tm', 'Edward', 'Patch', 21, '1801492@student.uwtsd.ac.uk', '07533 897799', 'Student')\n"
     ]
    }
   ],
   "source": [
    "cursor.execute('SELECT * FROM accounts')\n",
    "\n",
    "for row in cursor :\n",
    "    print(row)"
   ]
  },
  {
   "cell_type": "markdown",
   "metadata": {},
   "source": [
    "*Manual Administration*"
   ]
  },
  {
   "cell_type": "code",
   "execution_count": null,
   "metadata": {},
   "outputs": [],
   "source": [
    "#Manual USER ACCOUNT Administration\n",
    "username = input(\"Enter username: \")\n",
    "password = input(\"Enter password: \")\n",
    "b = password.encode('utf-8') # Encodes the password\n",
    "password = bcrypt.hashpw(b, bcrypt.gensalt(11, prefix=b'2a')).decode('utf-8') # Generates a password HASH\n",
    "firstName = input(\"Enter first Name: \")\n",
    "lastName = input(\"Enter Last Name: \")\n",
    "age = int(input(\"Enter Age: \"))\n",
    "email = input(\"Enter Email: \")\n",
    "telephone = input(\"Enter Telephone: \")\n",
    "role = input(\"Enter Role: \")\n",
    "\n",
    "# Makes sure to generate a new ID for each account\n",
    "cursor.execute('SELECT * FROM accounts') \n",
    "index = 0\n",
    "for row in cursor :\n",
    "    index = row[0]\n",
    "    \n",
    "# If cursor.rowcount is more than 0, 0+ ID's available\n",
    "if (cursor.rowcount > 0) :\n",
    "    index += 1 # Adds +1 to existing ID \n",
    "\n",
    "# Adds inserts data into the row of the database\n",
    "cursor.execute('''INSERT INTO accounts(id, username, password, firstName, lastName, age, email,\n",
    "telephoneNumber, role) VALUES(''' + str(index) + \", '\" + username + \"', \" + '\"' + str(password) + '\"'\n",
    "               + \", '\" + firstName + \"', '\" + lastName + \"', \" + str(age) + \", '\" + email \n",
    "               + \"', '\" + telephone + \"', '\" + role + \"')\") \n",
    "\n",
    "conn.commit() # Commits changes to database"
   ]
  },
  {
   "cell_type": "code",
   "execution_count": 30,
   "metadata": {},
   "outputs": [
    {
     "name": "stdout",
     "output_type": "stream",
     "text": [
      "Enter product category: Snack\n",
      "Enter product name: Walkers Crisps (Cheese and Onion)\n",
      "Enter product price: £1.65\n",
      "Enter product calories: 75\n",
      "List allergies: \n",
      "Vegetarian\n",
      "Enter product availability: 38\n",
      "Enter image path: N/A\n"
     ]
    }
   ],
   "source": [
    "#Manual PRODUCT Administration\n",
    "category = input(\"Enter product category: \")\n",
    "name = input(\"Enter product name: \")\n",
    "price = float(input(\"Enter product price: £\"))\n",
    "calories = int(input(\"Enter product calories: \"))\n",
    "\n",
    "print(\"List allergies: \")\n",
    "allergies = input()\n",
    "\n",
    "availability = input(\"Enter product availability: \")\n",
    "imgPath = input(\"Enter image path: \")\n",
    "\n",
    "cursor.execute('SELECT * FROM products') \n",
    "index = 0\n",
    "for row in cursor :\n",
    "    index = row[0]\n",
    "    \n",
    "# If cursor.rowcount is more than 0, 0+ ID's available\n",
    "if (cursor.rowcount > 0) :\n",
    "    index += 1\n",
    "    \n",
    "cursor.execute('''INSERT INTO products(id, name, category, price, calories, allergies, availability, img)\n",
    "VALUES(''' + str(index) + \", '\" + name + \"', '\" + category + \"', \" + str(price) + \", \" + str(calories) \n",
    "               + \", '\" + allergies + \"', \" + str(availability) + \", '\" + imgPath + \"')\")\n",
    "\n",
    "conn.commit()"
   ]
  },
  {
   "cell_type": "code",
   "execution_count": null,
   "metadata": {},
   "outputs": [],
   "source": []
  }
 ],
 "metadata": {
  "kernelspec": {
   "display_name": "Python 3",
   "language": "python",
   "name": "python3"
  },
  "language_info": {
   "codemirror_mode": {
    "name": "ipython",
    "version": 3
   },
   "file_extension": ".py",
   "mimetype": "text/x-python",
   "name": "python",
   "nbconvert_exporter": "python",
   "pygments_lexer": "ipython3",
   "version": "3.7.8"
  }
 },
 "nbformat": 4,
 "nbformat_minor": 4
}
