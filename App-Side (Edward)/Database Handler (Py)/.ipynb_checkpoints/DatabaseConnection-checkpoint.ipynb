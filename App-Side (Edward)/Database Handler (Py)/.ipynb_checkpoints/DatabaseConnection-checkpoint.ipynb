{
 "cells": [
  {
   "cell_type": "code",
   "execution_count": 1,
   "metadata": {},
   "outputs": [],
   "source": [
    "import pyodbc as serv"
   ]
  },
  {
   "cell_type": "code",
   "execution_count": 2,
   "metadata": {},
   "outputs": [],
   "source": [
    "driver = '{ODBC Driver 17 for SQL Server}'\n",
    "server = 'stay-safe.database.windows.net'\n",
    "port = '1433'\n",
    "database = 'staysafe'\n",
    "username = 'owner'\n",
    "password = 's5hhYSr@LRyD'\n",
    "tc = 'yes'\n",
    "\n",
    "pass\n",
    "\n",
    "\n",
    "conn = serv.connect('DRIVER=' + driver + ';'\n",
    "                          + 'SERVER=' + server +';'\n",
    "                          + 'PORT=' + port + ';'\n",
    "                          + 'DATABASE=' + database + ';'\n",
    "                          + 'UID=' + username + ';'\n",
    "                          + 'PWD=' + password)\n",
    "cursor = conn.cursor()\n"
   ]
  },
  {
   "cell_type": "code",
   "execution_count": 3,
   "metadata": {},
   "outputs": [
    {
     "data": {
      "text/plain": [
       "<pyodbc.Cursor at 0x18f7ca2b3b0>"
      ]
     },
     "execution_count": 3,
     "metadata": {},
     "output_type": "execute_result"
    }
   ],
   "source": [
    "cursor.execute('''CREATE TABLE animals(\n",
    "                id int, \n",
    "                breed varChar(80),\n",
    "                age int)''')\n",
    "\n",
    "cursor.execute('''INSERT INTO animals(id, breed, age)\n",
    "               VALUES(0, 'Cat', 5)''') # can you see where i went wrong :D\n",
    "\n",
    "\n",
    "cursor.execute('''INSERT INTO animals(id, breed, age)\n",
    "               VALUES(1, 'Dog', 10)''')"
   ]
  },
  {
   "cell_type": "code",
   "execution_count": 4,
   "metadata": {},
   "outputs": [
    {
     "name": "stdout",
     "output_type": "stream",
     "text": [
      "(0, 'Cat', 5)\n",
      "(0, 'Dog', 10)\n"
     ]
    }
   ],
   "source": [
    "cursor.execute('SELECT * FROM animals')\n",
    "\n",
    "for row in cursor:\n",
    "    print(row)"
   ]
  },
  {
   "cell_type": "code",
   "execution_count": null,
   "metadata": {},
   "outputs": [],
   "source": []
  }
 ],
 "metadata": {
  "kernelspec": {
   "display_name": "Python 3",
   "language": "python",
   "name": "python3"
  },
  "language_info": {
   "codemirror_mode": {
    "name": "ipython",
    "version": 3
   },
   "file_extension": ".py",
   "mimetype": "text/x-python",
   "name": "python",
   "nbconvert_exporter": "python",
   "pygments_lexer": "ipython3",
   "version": "3.7.8"
  }
 },
 "nbformat": 4,
 "nbformat_minor": 4
}
